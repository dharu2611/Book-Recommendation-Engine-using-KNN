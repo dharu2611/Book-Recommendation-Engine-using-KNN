{
  "nbformat": 4,
  "nbformat_minor": 0,
  "metadata": {
    "colab": {
      "provenance": []
    },
    "kernelspec": {
      "name": "python3",
      "display_name": "Python 3"
    },
    "language_info": {
      "name": "python"
    }
  },
  "cells": [
    {
      "cell_type": "code",
      "execution_count": 1,
      "metadata": {
        "colab": {
          "base_uri": "https://localhost:8080/"
        },
        "id": "GTG6221mYMK5",
        "outputId": "9699c711-939f-40f6-ecee-4cc7b8453cb7"
      },
      "outputs": [
        {
          "output_type": "stream",
          "name": "stdout",
          "text": [
            "Recommended Books:\n",
            "Book D - Genre: Thriller\n",
            "Book E - Genre: Science Fiction\n",
            "Book C - Genre: Romance\n"
          ]
        },
        {
          "output_type": "stream",
          "name": "stderr",
          "text": [
            "/usr/local/lib/python3.10/dist-packages/sklearn/base.py:439: UserWarning: X does not have valid feature names, but NearestNeighbors was fitted with feature names\n",
            "  warnings.warn(\n"
          ]
        }
      ],
      "source": [
        "import pandas as pd\n",
        "from sklearn.neighbors import NearestNeighbors\n",
        "\n",
        "# Sample book data (you can replace this with your own dataset)\n",
        "books = {\n",
        "    'BookID': [1, 2, 3, 4, 5],\n",
        "    'Title': ['Book A', 'Book B', 'Book C', 'Book D', 'Book E'],\n",
        "    'Author': ['Author 1', 'Author 2', 'Author 3', 'Author 4', 'Author 5'],\n",
        "    'Genre': ['Fantasy', 'Mystery', 'Romance', 'Thriller', 'Science Fiction']\n",
        "}\n",
        "\n",
        "# Create a DataFrame from the book data\n",
        "df_books = pd.DataFrame(books)\n",
        "\n",
        "# Sample user book ratings (you can replace this with your own user data)\n",
        "user_ratings = {\n",
        "    'BookID': [1, 2, 3],\n",
        "    'Rating': [5, 4, 3]\n",
        "}\n",
        "\n",
        "# Create a DataFrame from the user ratings data\n",
        "df_user_ratings = pd.DataFrame(user_ratings)\n",
        "\n",
        "# Merge book and user ratings DataFrames\n",
        "df_merged = pd.merge(df_books, df_user_ratings, on='BookID', how='left')\n",
        "\n",
        "# Fill NaN values with 0 for books not rated by the user\n",
        "df_merged['Rating'] = df_merged['Rating'].fillna(0)\n",
        "\n",
        "# Separate features and target\n",
        "X = df_merged[['BookID', 'Rating']]\n",
        "y = df_merged['Title']\n",
        "\n",
        "# Create and fit KNN model\n",
        "knn_model = NearestNeighbors(n_neighbors=3, algorithm='auto')\n",
        "knn_model.fit(X)\n",
        "\n",
        "# Sample input for recommendation (user input, or you can replace this with your own data)\n",
        "user_input = [[4, 0]]  # User didn't rate BookID 4, so set the rating to 0\n",
        "\n",
        "# Get recommendations\n",
        "distances, indices = knn_model.kneighbors(user_input)\n",
        "\n",
        "# Print recommended books\n",
        "print(\"Recommended Books:\")\n",
        "for index in indices[0]:\n",
        "    print(df_merged.iloc[index]['Title'], \"- Genre:\", df_merged.iloc[index]['Genre'])\n"
      ]
    }
  ]
}